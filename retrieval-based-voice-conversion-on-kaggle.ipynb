{
    "metadata": {
        "kernelspec": {
		    "title": "Retrieval based Voice Conversion on Kaggle",
            "language": "python",
            "display_name": "Python 3",
            "name": "python3",
			"enable_gpu": "true",
			"enable_internet": "true",
        },
        "language_info": {
            "name": "python",
            "version": "3.10.12",
            "mimetype": "text/x-python",
            "codemirror_mode": {"name": "ipython", "version": 3},
            "pygments_lexer": "ipython3",
            "nbconvert_exporter": "python",
            "file_extension": ".py",
        },
    },
    "nbformat_minor": 4,
    "nbformat": 4,
    "cells": [
        {
            "cell_type": "code",
            "source": "!mamba create -n rvc mamba python=3.9.16 jupyter -y > /dev/null\n!source /opt/conda/bin/activate rvc > /dev/null\n!sudo rm -f /opt/conda/bin/python /opt/conda/bin/python3 /opt/conda/bin/python3.9\n!sudo ln -sf /opt/conda/envs/rvc/bin/python3 /opt/conda/bin/python\n!sudo ln -sf /opt/conda/envs/rvc/bin/python3 /opt/conda/bin/python3\n!sudo ln -sf /opt/conda/envs/rvc/bin/python3.9 /opt/conda/bin/python3.9",
            "metadata": {
                "_uuid": "6bad080f-279e-4837-bb72-5263180f019d",
                "_cell_guid": "7329bdbb-f3e9-461b-9aa5-8b013109e8d3",
                "collapsed": false,
                "jupyter": {"outputs_hidden": false},
                "execution": {
                    "iopub.status.busy": "2023-07-30T06:00:08.314561Z",
                    "iopub.execute_input": "2023-07-30T06:00:08.314985Z",
                    "iopub.status.idle": "2023-07-30T06:04:41.936412Z",
                    "shell.execute_reply.started": "2023-07-30T06:00:08.314949Z",
                    "shell.execute_reply": "2023-07-30T06:04:41.934956Z",
                },
                "trusted": true,
            },
            "execution_count": 1,
            "outputs": [
                {
                    "name": "stdout",
                    "text": '\u001b[33m\u001b[1mwarning  libmamba\u001b[m Cache file "/opt/conda/pkgs/cache/c6f2354e.json" was modified by another program\n\u001b[33m\u001b[1mwarning  libmamba\u001b[m Cache file "/opt/conda/pkgs/cache/86b0f08d.json" was modified by another program\n\u001b[33m\u001b[1mwarning  libmamba\u001b[m Cache file "/opt/conda/pkgs/cache/c9ddbd6b.json" was modified by another program\n\u001b[33m\u001b[1mwarning  libmamba\u001b[m Cache file "/opt/conda/pkgs/cache/b121c3e7.json" was modified by another program\n\u001b[33m\u001b[1mwarning  libmamba\u001b[m Cache file "/opt/conda/pkgs/cache/497deca9.json" was modified by another program\n\u001b[33m\u001b[1mwarning  libmamba\u001b[m Cache file "/opt/conda/pkgs/cache/09cdf8bf.json" was modified by another program\n\u001b[33m\u001b[1mwarning  libmamba\u001b[m Cache file "/opt/conda/pkgs/cache/47929eba.json" was modified by another program\n\u001b[33m\u001b[1mwarning  libmamba\u001b[m Cache file "/opt/conda/pkgs/cache/3e39a7aa.json" was modified by another program\n\u001b[33m\u001b[1mwarning  libmamba\u001b[m Cache file "/opt/conda/pkgs/cache/2ce54b42.json" was modified by another program\n\u001b[33m\u001b[1mwarning  libmamba\u001b[m Cache file "/opt/conda/pkgs/cache/4ea078d6.json" was modified by another program\n',
                    "output_type": "stream",
                }
            ],
        },
        {
            "cell_type": "code",
            "source": "!git clone --quiet https://github.com/cepLI/rvc\n%cd /kaggle/working/rvc/\n!python -m pip install -r requirements.txt --no-warn-script-location --quiet",
            "metadata": {
                "_uuid": "ba1de19f-d6d8-4c55-8535-a8383478f7d8",
                "_cell_guid": "b6399414-7886-4fde-a9c2-a45d16899938",
                "execution": {
                    "iopub.status.busy": "2023-07-30T06:13:39.781171Z",
                    "iopub.execute_input": "2023-07-30T06:13:39.781612Z",
                    "iopub.status.idle": "2023-07-30T06:18:03.536044Z",
                    "shell.execute_reply.started": "2023-07-30T06:13:39.781576Z",
                    "shell.execute_reply": "2023-07-30T06:18:03.534654Z",
                },
                "trusted": true,
            },
            "execution_count": 9,
            "outputs": [
                {
                    "name": "stdout",
                    "text": "/kaggle/working\n/kaggle/working/rvc\n\u001b[33mDEPRECATION: omegaconf 2.0.5 has a non-standard dependency specifier PyYAML>=5.1.*. pip 23.3 will enforce this behaviour change. A possible replacement is to upgrade to a newer version of omegaconf or contact the author to suggest that they release a version with a conforming dependency specifiers. Discussion can be found at https://github.com/pypa/pip/issues/12063\u001b[0m\u001b[33m\n\u001b[0m",
                    "output_type": "stream",
                }
            ],
        },
        {
            "cell_type": "code",
            "source": "!apt install aria2 -y &> /dev/null\n!aria2c --quiet https://bit.ly/f0G40k_pth -d pretrained_v2 -o f0G40k.pth\n!aria2c --quiet https://bit.ly/f0D40k_pth -d pretrained_v2 -o f0D40k.pth\n!aria2c --quiet https://bit.ly/hubert_base_pt -o hubert_base.pt",
            "metadata": {
                "_uuid": "5534a86d-d03d-4002-bd39-cdfc7c64c5e2",
                "_cell_guid": "a5ced257-24fb-4cec-af84-be0a323b26bb",
                "collapsed": false,
                "jupyter": {"outputs_hidden": false},
                "execution": {
                    "iopub.status.busy": "2023-07-30T06:19:48.255366Z",
                    "iopub.execute_input": "2023-07-30T06:19:48.255804Z",
                    "iopub.status.idle": "2023-07-30T06:20:03.621792Z",
                    "shell.execute_reply.started": "2023-07-30T06:19:48.255766Z",
                    "shell.execute_reply": "2023-07-30T06:20:03.620279Z",
                },
                "trusted": true,
            },
            "execution_count": 11,
            "outputs": [],
        },
        {
            "cell_type": "code",
            "source": "!mkdir -p /kaggle/temp/dataset\n!cp -r /kaggle/input/* /kaggle/temp/dataset/\n!mv /kaggle/temp/dataset/*/* /kaggle/temp/dataset/\n!rm -r /kaggle/temp/dataset/*/",
            "metadata": {
                "_uuid": "fcc82082-f6ed-4ac5-a4d6-8d3a03765b2f",
                "_cell_guid": "193c99c4-105e-44de-838d-10adc645c5d7",
                "collapsed": false,
                "jupyter": {"outputs_hidden": false},
                "trusted": true,
            },
            "execution_count": null,
            "outputs": [],
        },
        {
            "cell_type": "code",
            "source": "%cd /kaggle/working/rvc/ && python infer-web.py --pycmd python --kaggle",
            "metadata": {
                "_uuid": "fc51dc29-2686-4e52-b59b-8ca4cc56672a",
                "_cell_guid": "f50974ad-c505-43fd-b822-aa37d51bd106",
                "collapsed": false,
                "jupyter": {"outputs_hidden": false},
                "trusted": true,
            },
            "execution_count": null,
            "outputs": [],
        },
        {
            "cell_type": "code",
            "source": "%cd /kaggle/working/rvc/\n!zip -r out.zip /weights/* /logs/* -b /kaggle/working/\nfrom IPython.display import FileLink\nFileLink(r'out.zip')",
            "metadata": {
                "_uuid": "7fcca97d-81b0-43a0-ae70-c51ccd09c520",
                "_cell_guid": "b83c5ed9-def8-4d6a-9a1c-b3876e55ac36",
                "collapsed": false,
                "jupyter": {"outputs_hidden": false},
                "trusted": true,
            },
            "execution_count": null,
            "outputs": [],
        },
    ],
}
